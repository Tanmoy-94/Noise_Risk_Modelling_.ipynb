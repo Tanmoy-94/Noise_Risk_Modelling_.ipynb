{
  "cells": [
    {
      "cell_type": "markdown",
      "id": "d23507f0",
      "metadata": {
        "id": "d23507f0"
      },
      "source": [
        "<style>div.container { width: 100% }</style>\n",
        "<img style=\"float:left;  vertical-align:text-bottom;\" height=\"65\" width=\"172\" src=\"https://raw.githubusercontent.com/holoviz/holoviz/master/doc/_static/holoviz-logo-unstacked.svg\" />\n",
        "<div style=\"float:right; vertical-align:text-bottom;\"><h2>Tutorial 4. Making dashboards</h2></div>"
      ]
    },
    {
      "cell_type": "markdown",
      "id": "040c997b",
      "metadata": {
        "id": "040c997b"
      },
      "source": [
        "\n",
        "This tutorial demonstrates the Easiest Way to Create an Interactive Dashboard in Python from any DataFrame.  If you already know some Pandas, you can almost immediately use `hvPlot` `.interactive` and `Panel` to turn your DataFrame processing pipeline into a dashboard! It just takes a few lines of familiar code to make an interactive dashboard like this:\n",
        "![Data App](https://github.com/holoviz-community/HoloViz_KDD2022/blob/main/assets/easy-dataframe-dashboards.gif?raw=1)\n",
        "\n"
      ]
    },
    {
      "cell_type": "markdown",
      "id": "abf60b58",
      "metadata": {
        "id": "abf60b58"
      },
      "source": [
        "## Import and configure packages\n",
        "\n",
        "Please note that in **Colab** you will need to `!pip install panel hvplot`."
      ]
    },
    {
      "cell_type": "code",
      "execution_count": 1,
      "id": "87e951df",
      "metadata": {
        "id": "87e951df",
        "outputId": "48e1c3ef-baf6-4114-eeb2-6b636f532b66",
        "colab": {
          "base_uri": "https://localhost:8080/"
        }
      },
      "outputs": [
        {
          "output_type": "stream",
          "name": "stdout",
          "text": [
            "notebook\n",
            "Running on CoLab\n",
            "Requirement already satisfied: panel in /usr/local/lib/python3.11/dist-packages (1.6.3)\n",
            "Collecting hvplot\n",
            "  Downloading hvplot-0.11.3-py3-none-any.whl.metadata (15 kB)\n",
            "Requirement already satisfied: bleach in /usr/local/lib/python3.11/dist-packages (from panel) (6.2.0)\n",
            "Requirement already satisfied: bokeh<3.8.0,>=3.5.0 in /usr/local/lib/python3.11/dist-packages (from panel) (3.7.3)\n",
            "Requirement already satisfied: linkify-it-py in /usr/local/lib/python3.11/dist-packages (from panel) (2.0.3)\n",
            "Requirement already satisfied: markdown in /usr/local/lib/python3.11/dist-packages (from panel) (3.8)\n",
            "Requirement already satisfied: markdown-it-py in /usr/local/lib/python3.11/dist-packages (from panel) (3.0.0)\n",
            "Requirement already satisfied: mdit-py-plugins in /usr/local/lib/python3.11/dist-packages (from panel) (0.4.2)\n",
            "Requirement already satisfied: packaging in /usr/local/lib/python3.11/dist-packages (from panel) (24.2)\n",
            "Requirement already satisfied: pandas>=1.2 in /usr/local/lib/python3.11/dist-packages (from panel) (2.2.2)\n",
            "Requirement already satisfied: param<3.0,>=2.1.0 in /usr/local/lib/python3.11/dist-packages (from panel) (2.2.0)\n",
            "Requirement already satisfied: pyviz-comms>=2.0.0 in /usr/local/lib/python3.11/dist-packages (from panel) (3.0.4)\n",
            "Requirement already satisfied: requests in /usr/local/lib/python3.11/dist-packages (from panel) (2.32.3)\n",
            "Requirement already satisfied: tqdm in /usr/local/lib/python3.11/dist-packages (from panel) (4.67.1)\n",
            "Requirement already satisfied: typing-extensions in /usr/local/lib/python3.11/dist-packages (from panel) (4.13.2)\n",
            "Requirement already satisfied: colorcet>=2 in /usr/local/lib/python3.11/dist-packages (from hvplot) (3.1.0)\n",
            "Requirement already satisfied: holoviews>=1.19.0 in /usr/local/lib/python3.11/dist-packages (from hvplot) (1.20.2)\n",
            "Requirement already satisfied: numpy>=1.21 in /usr/local/lib/python3.11/dist-packages (from hvplot) (2.0.2)\n",
            "Requirement already satisfied: Jinja2>=2.9 in /usr/local/lib/python3.11/dist-packages (from bokeh<3.8.0,>=3.5.0->panel) (3.1.6)\n",
            "Requirement already satisfied: contourpy>=1.2 in /usr/local/lib/python3.11/dist-packages (from bokeh<3.8.0,>=3.5.0->panel) (1.3.2)\n",
            "Requirement already satisfied: narwhals>=1.13 in /usr/local/lib/python3.11/dist-packages (from bokeh<3.8.0,>=3.5.0->panel) (1.39.0)\n",
            "Requirement already satisfied: pillow>=7.1.0 in /usr/local/lib/python3.11/dist-packages (from bokeh<3.8.0,>=3.5.0->panel) (11.2.1)\n",
            "Requirement already satisfied: PyYAML>=3.10 in /usr/local/lib/python3.11/dist-packages (from bokeh<3.8.0,>=3.5.0->panel) (6.0.2)\n",
            "Requirement already satisfied: tornado>=6.2 in /usr/local/lib/python3.11/dist-packages (from bokeh<3.8.0,>=3.5.0->panel) (6.4.2)\n",
            "Requirement already satisfied: xyzservices>=2021.09.1 in /usr/local/lib/python3.11/dist-packages (from bokeh<3.8.0,>=3.5.0->panel) (2025.4.0)\n",
            "Requirement already satisfied: python-dateutil>=2.8.2 in /usr/local/lib/python3.11/dist-packages (from pandas>=1.2->panel) (2.9.0.post0)\n",
            "Requirement already satisfied: pytz>=2020.1 in /usr/local/lib/python3.11/dist-packages (from pandas>=1.2->panel) (2025.2)\n",
            "Requirement already satisfied: tzdata>=2022.7 in /usr/local/lib/python3.11/dist-packages (from pandas>=1.2->panel) (2025.2)\n",
            "Requirement already satisfied: webencodings in /usr/local/lib/python3.11/dist-packages (from bleach->panel) (0.5.1)\n",
            "Requirement already satisfied: uc-micro-py in /usr/local/lib/python3.11/dist-packages (from linkify-it-py->panel) (1.0.3)\n",
            "Requirement already satisfied: mdurl~=0.1 in /usr/local/lib/python3.11/dist-packages (from markdown-it-py->panel) (0.1.2)\n",
            "Requirement already satisfied: charset-normalizer<4,>=2 in /usr/local/lib/python3.11/dist-packages (from requests->panel) (3.4.2)\n",
            "Requirement already satisfied: idna<4,>=2.5 in /usr/local/lib/python3.11/dist-packages (from requests->panel) (3.10)\n",
            "Requirement already satisfied: urllib3<3,>=1.21.1 in /usr/local/lib/python3.11/dist-packages (from requests->panel) (2.4.0)\n",
            "Requirement already satisfied: certifi>=2017.4.17 in /usr/local/lib/python3.11/dist-packages (from requests->panel) (2025.4.26)\n",
            "Requirement already satisfied: MarkupSafe>=2.0 in /usr/local/lib/python3.11/dist-packages (from Jinja2>=2.9->bokeh<3.8.0,>=3.5.0->panel) (3.0.2)\n",
            "Requirement already satisfied: six>=1.5 in /usr/local/lib/python3.11/dist-packages (from python-dateutil>=2.8.2->pandas>=1.2->panel) (1.17.0)\n",
            "Downloading hvplot-0.11.3-py3-none-any.whl (170 kB)\n",
            "\u001b[2K   \u001b[90m━━━━━━━━━━━━━━━━━━━━━━━━━━━━━━━━━━━━━━━━\u001b[0m \u001b[32m170.3/170.3 kB\u001b[0m \u001b[31m2.9 MB/s\u001b[0m eta \u001b[36m0:00:00\u001b[0m\n",
            "\u001b[?25hInstalling collected packages: hvplot\n",
            "Successfully installed hvplot-0.11.3\n"
          ]
        }
      ],
      "source": [
        "def environment():\n",
        "    try:\n",
        "        get_ipython()\n",
        "        print('notebook')\n",
        "        return str(get_ipython())\n",
        "    except:\n",
        "        print('server')\n",
        "        return 'server'\n",
        "env = environment()\n",
        "\n",
        "if env==\"server\":\n",
        "   theme=\"fast\"\n",
        "else:\n",
        "   theme=\"simple\"\n",
        "\n",
        "if 'google.colab' in env:\n",
        "    print('Running on CoLab')\n",
        "    !pip install panel hvplot"
      ]
    },
    {
      "cell_type": "code",
      "execution_count": null,
      "id": "0f1112af",
      "metadata": {
        "id": "0f1112af"
      },
      "outputs": [],
      "source": [
        "import panel as pn\n",
        "\n",
        "pn.extension('tabulator', sizing_mode=\"stretch_width\")"
      ]
    },
    {
      "cell_type": "code",
      "execution_count": null,
      "id": "5adb11a6",
      "metadata": {
        "id": "5adb11a6"
      },
      "outputs": [],
      "source": [
        "import hvplot.pandas\n",
        "import holoviews as hv\n",
        "\n",
        "hv.extension('bokeh')"
      ]
    },
    {
      "cell_type": "markdown",
      "id": "7698a74c",
      "metadata": {
        "id": "7698a74c"
      },
      "source": [
        "## Load Data"
      ]
    },
    {
      "cell_type": "code",
      "execution_count": null,
      "id": "09d60a44",
      "metadata": {
        "id": "09d60a44"
      },
      "outputs": [],
      "source": [
        "from bokeh.sampledata.autompg import autompg_clean as df\n",
        "df.head()"
      ]
    },
    {
      "cell_type": "markdown",
      "id": "1bfed521",
      "metadata": {
        "id": "1bfed521"
      },
      "source": [
        "## Define DataFrame Pipeline"
      ]
    },
    {
      "cell_type": "code",
      "execution_count": null,
      "id": "4a42b6e5",
      "metadata": {
        "id": "4a42b6e5"
      },
      "outputs": [],
      "source": [
        "(\n",
        "    df[\n",
        "        (df.cyl == 4) &\n",
        "        (df.mfr.isin(['ford','chevrolet']))\n",
        "    ]\n",
        "    .groupby(['origin', 'cyl', 'mfr', 'yr'])['hp'].mean()\n",
        "    .to_frame()\n",
        "    .reset_index()\n",
        "    .sort_values(by='yr')\n",
        ").head(1)"
      ]
    },
    {
      "cell_type": "markdown",
      "id": "f928f0ba",
      "metadata": {
        "id": "f928f0ba"
      },
      "source": [
        "## Make DataFrame Pipeline Interactive\n",
        "\n",
        "What if we would like to turn the values of cyl, the values of mfr, and the variable hp into interactive widgets that we can change and control? Is it possible? Yes, it is, and with hvPlot it’s not even difficult. Here are the steps:\n",
        "\n",
        "- First, we need to wrap our dataframe with `.interactive()`: `idf = df.interactive()`, so that this dataframe becomes interactive and we can use Panel widgets on this dataframe.\n",
        "\n",
        "“.interactive stores a copy of your pipeline (series of method calls or other expressions on your data) and dynamically replays the pipeline whenever that widget changes.”\n"
      ]
    },
    {
      "cell_type": "code",
      "execution_count": null,
      "id": "6e12aa62",
      "metadata": {
        "id": "6e12aa62"
      },
      "outputs": [],
      "source": [
        "idf = df.interactive()"
      ]
    },
    {
      "cell_type": "markdown",
      "id": "835b20da",
      "metadata": {
        "id": "835b20da"
      },
      "source": [
        "Define [Panel widgets](https://panel.holoviz.org/reference/index.html#widgets)"
      ]
    },
    {
      "cell_type": "markdown",
      "id": "070c8be5",
      "metadata": {
        "id": "070c8be5"
      },
      "source": [
        "- Second, we can define the panel widgets we would like to use. Here I defined a panel widget for cylinders, a widget for the manufacturer, and a widget to select the y axis.\n"
      ]
    },
    {
      "cell_type": "code",
      "execution_count": null,
      "id": "956fa985",
      "metadata": {
        "id": "956fa985"
      },
      "outputs": [],
      "source": [
        "cylinders = pn.widgets.IntSlider(name='Cylinders', start=4, end=8, step=2)\n",
        "cylinders"
      ]
    },
    {
      "cell_type": "code",
      "execution_count": null,
      "id": "4c51414d",
      "metadata": {
        "id": "4c51414d"
      },
      "outputs": [],
      "source": [
        "mfr = pn.widgets.ToggleGroup(\n",
        "    name='MFR',\n",
        "    options=['ford', 'chevrolet', 'honda', 'toyota', 'audi'],\n",
        "    value=['ford', 'chevrolet', 'honda', 'toyota', 'audi'],\n",
        "    button_type='success')\n",
        "mfr"
      ]
    },
    {
      "cell_type": "code",
      "execution_count": null,
      "id": "9cf44549",
      "metadata": {
        "id": "9cf44549"
      },
      "outputs": [],
      "source": [
        "yaxis = pn.widgets.RadioButtonGroup(\n",
        "    name='Y axis',\n",
        "    options=['hp', 'weight'],\n",
        "    button_type='success'\n",
        ")\n",
        "yaxis"
      ]
    },
    {
      "cell_type": "markdown",
      "id": "743aa619",
      "metadata": {
        "id": "743aa619"
      },
      "source": [
        "- Finally, we can replace the values or variables from the original Pandas pipeline to these widgets we just defined. We define the output of the pipeline as ipipeline:\n"
      ]
    },
    {
      "cell_type": "code",
      "execution_count": null,
      "id": "b8883956",
      "metadata": {
        "id": "b8883956"
      },
      "outputs": [],
      "source": [
        "ipipeline = (\n",
        "    idf[\n",
        "        (idf.cyl == cylinders) &\n",
        "        (idf.mfr.isin(mfr))\n",
        "    ]\n",
        "    .groupby(['origin', 'mpg'])[yaxis].mean()\n",
        "    .to_frame()\n",
        "    .reset_index()\n",
        "    .sort_values(by='mpg')\n",
        "    .reset_index(drop=True)\n",
        ")\n",
        "ipipeline.head()"
      ]
    },
    {
      "cell_type": "markdown",
      "id": "bff77abf",
      "metadata": {
        "id": "bff77abf"
      },
      "source": [
        "## Pipe to Table"
      ]
    },
    {
      "cell_type": "code",
      "execution_count": null,
      "id": "d262cb39",
      "metadata": {
        "id": "d262cb39"
      },
      "outputs": [],
      "source": [
        "itable = ipipeline.pipe(pn.widgets.Tabulator, pagination='remote', page_size=10, theme=theme)\n",
        "itable"
      ]
    },
    {
      "cell_type": "markdown",
      "id": "b21344a1",
      "metadata": {
        "id": "b21344a1"
      },
      "source": [
        "Check out the [Tabulator Reference Guide](https://panel.holoviz.org/reference/widgets/Tabulator.html) for more inspiration."
      ]
    },
    {
      "cell_type": "markdown",
      "id": "246398c8",
      "metadata": {
        "id": "246398c8"
      },
      "source": [
        "## Pipe to hvplot"
      ]
    },
    {
      "cell_type": "code",
      "execution_count": null,
      "id": "89b2810d",
      "metadata": {
        "id": "89b2810d"
      },
      "outputs": [],
      "source": [
        "PALETTE = [\"#ff6f69\", \"#ffcc5c\", \"#88d8b0\", ]\n",
        "pn.Row(\n",
        "    pn.layout.HSpacer(height=50, background=PALETTE[0]),\n",
        "    pn.layout.HSpacer(height=50, background=PALETTE[1]),\n",
        "    pn.layout.HSpacer(height=50, background=PALETTE[2]),\n",
        ")"
      ]
    },
    {
      "cell_type": "code",
      "execution_count": null,
      "id": "b958a6e1",
      "metadata": {
        "id": "b958a6e1"
      },
      "outputs": [],
      "source": [
        "ihvplot = ipipeline.hvplot(x='mpg', y=yaxis, by='origin', color=PALETTE, line_width=6, height=400)\n",
        "ihvplot"
      ]
    },
    {
      "cell_type": "markdown",
      "id": "bb4b164e",
      "metadata": {
        "id": "bb4b164e"
      },
      "source": [
        "## Layout using Panel"
      ]
    },
    {
      "cell_type": "code",
      "execution_count": null,
      "id": "3139da02",
      "metadata": {
        "id": "3139da02"
      },
      "outputs": [],
      "source": [
        "pn.Column(\n",
        "    pn.Row(\n",
        "        cylinders, mfr, yaxis\n",
        "    ),\n",
        "    ihvplot.panel(),\n",
        "    itable.panel()\n",
        ")"
      ]
    },
    {
      "cell_type": "markdown",
      "id": "345db224",
      "metadata": {
        "id": "345db224"
      },
      "source": [
        "## Layout using Template\n",
        "\n",
        "Here we use the [FastListTemplate](https://panel.holoviz.org/reference/templates/FastListTemplate.html#templates-gallery-fastlisttemplate)."
      ]
    },
    {
      "cell_type": "code",
      "execution_count": null,
      "id": "d224e0e7",
      "metadata": {
        "id": "d224e0e7"
      },
      "outputs": [],
      "source": [
        "template = pn.template.FastListTemplate(\n",
        "    title='Interactive DataFrame Dashboards with hvplot .interactive',\n",
        "    sidebar=[cylinders, 'Manufacturers', mfr, 'Y axis' , yaxis],\n",
        "    main=[ihvplot.panel(), itable.panel()],\n",
        "    accent_base_color=\"#88d8b0\",\n",
        "    header_background=\"#88d8b0\",\n",
        ")\n",
        "# template.show()\n",
        "template.servable();"
      ]
    },
    {
      "cell_type": "markdown",
      "id": "8831435d",
      "metadata": {
        "id": "8831435d"
      },
      "source": [
        "Please note that to get the Tabulator table styled nicely for dark mode you can set `theme='fast'` when you define the `itable`. It won't work in the notebook though.\n",
        "\n",
        "To *serve the notebook* run `panel serve 04_Dashboard.ipynb`."
      ]
    },
    {
      "cell_type": "markdown",
      "id": "b39f777a",
      "metadata": {
        "id": "b39f777a"
      },
      "source": [
        "<div class=\"alert alert-info\">\n",
        "<h4>Exercise</h4>\n",
        "    \n",
        "Take a look at the [Panel widget docs](https://panel.holoviz.org/reference/index.html#widgets). And change the three widgets above to different types of widgets of your choice.  \n",
        "        \n",
        "<details><summary><i><u>(Solution)</u><i></summary><br>\n",
        "    \n",
        "```python\n",
        "\n",
        "cylinders = pn.widgets.IntInput(name='Cylinders', value=4, step=2, start=4, end=8)\n",
        "mfr = pn.widgets.CheckBoxGroup(\n",
        "    name='MFR',\n",
        "    options=['ford', 'chevrolet', 'honda', 'toyota', 'audi'],\n",
        "    value=['ford', 'chevrolet', 'honda', 'toyota', 'audi']\n",
        ")\n",
        "yaxis = pn.widgets.RadioBoxGroup(\n",
        "    name='Y axis',\n",
        "    options=['hp', 'weight'],\n",
        ")\n",
        "    \n",
        "    \n",
        "```\n",
        "\n",
        "</details>\n",
        "</div>"
      ]
    },
    {
      "cell_type": "markdown",
      "id": "d3965e69",
      "metadata": {
        "id": "d3965e69"
      },
      "source": [
        "<div class=\"alert alert-info\">\n",
        "<h4>Exercise</h4>\n",
        "    \n",
        "Add a widget to select origin in the example above.\n",
        "\n",
        "<details><summary><i><u>(Solution)</u><i></summary><br>\n",
        "    \n",
        "```python\n",
        "\n",
        "origin = pn.widgets.ToggleGroup(\n",
        "    name='Origin',\n",
        "    options=['North America', 'Asia', 'Europe'],\n",
        "    value=['North America', 'Asia', 'Europe'],\n",
        "    button_type='success')\n",
        "origin\n",
        "    \n",
        "ipipeline = (\n",
        "    idf[\n",
        "        (idf.cyl == cylinders) &\n",
        "        (idf.mfr.isin(mfr)) &\n",
        "        (idf.origin.isin(origin))\n",
        "    ]\n",
        "    .groupby(['origin', 'mpg'])[yaxis].mean()\n",
        "    .to_frame()\n",
        "    .reset_index()\n",
        "    .sort_values(by='mpg')  \n",
        "    .reset_index(drop=True)\n",
        ")\n",
        "ipipeline.head()\n",
        "    \n",
        "```\n",
        "\n",
        "</details>\n",
        "</div>"
      ]
    },
    {
      "cell_type": "markdown",
      "id": "62a79daf",
      "metadata": {
        "id": "62a79daf"
      },
      "source": [
        "<div class=\"alert alert-info\">\n",
        "<h4>Exercise</h4>\n",
        "    \n",
        "Try save this notebook to a Python file, or copy and paste the relevant code to a Python file.\n",
        "    \n",
        "Then serve the dashboard from the Python file: `panel serve 04_Dashboard.py`.\n",
        "\n",
        "</details>\n",
        "</div>"
      ]
    },
    {
      "cell_type": "markdown",
      "id": "c51cd642",
      "metadata": {
        "id": "c51cd642"
      },
      "source": [
        "<div class=\"alert alert-info\">\n",
        "<h4>Reading time </h4>\n",
        "    \n",
        "Read the [Panel documentation](https://panel.holoviz.org/) and let us know if you have any questions.\n",
        "</div>"
      ]
    }
  ],
  "metadata": {
    "kernelspec": {
      "display_name": "Python 3 (ipykernel)",
      "language": "python",
      "name": "python3"
    },
    "language_info": {
      "codemirror_mode": {
        "name": "ipython",
        "version": 3
      },
      "file_extension": ".py",
      "mimetype": "text/x-python",
      "name": "python",
      "nbconvert_exporter": "python",
      "pygments_lexer": "ipython3",
      "version": "3.9.13"
    },
    "colab": {
      "provenance": []
    }
  },
  "nbformat": 4,
  "nbformat_minor": 5
}